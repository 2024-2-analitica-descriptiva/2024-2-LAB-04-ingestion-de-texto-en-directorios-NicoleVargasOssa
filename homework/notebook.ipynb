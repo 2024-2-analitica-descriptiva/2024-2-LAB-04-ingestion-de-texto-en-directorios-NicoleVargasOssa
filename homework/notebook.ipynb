{
 "cells": [
  {
   "cell_type": "code",
   "execution_count": 20,
   "metadata": {},
   "outputs": [],
   "source": [
    "import os\n",
    "import zipfile\n",
    "import pandas as pd"
   ]
  },
  {
   "cell_type": "code",
   "execution_count": 21,
   "metadata": {},
   "outputs": [],
   "source": [
    "def extraer(ruta_zip, ruta_extraer):\n",
    "    with zipfile.ZipFile(ruta_zip, 'r') as archivo_zip:\n",
    "        archivo_zip.extractall(ruta_extraer)"
   ]
  },
  {
   "cell_type": "code",
   "execution_count": 22,
   "metadata": {},
   "outputs": [],
   "source": [
    "def lectura(directorio):\n",
    "    archivos = []\n",
    "    sentiments = ['negative', 'neutral', 'positive']\n",
    "    for sentiment in sentiments:\n",
    "        sentiment_path = os.path.join(directorio, sentiment)\n",
    "        for archivo in os.listdir(sentiment_path):\n",
    "            if archivo.endswith('.txt'):\n",
    "                file_path = os.path.join(sentiment_path, archivo)\n",
    "                with open(file_path, 'r', encoding='utf-8') as archivo_txt:\n",
    "                    phrase = archivo_txt.read().strip()\n",
    "                    archivos.append({'phrase': phrase, 'target': sentiment})\n",
    "    return archivos"
   ]
  },
  {
   "cell_type": "code",
   "execution_count": 23,
   "metadata": {},
   "outputs": [],
   "source": [
    "def guardar_en_csv(archivos, salida):\n",
    "    tabla = pd.DataFrame(archivos)\n",
    "    tabla.to_csv(salida, index=False)"
   ]
  },
  {
   "cell_type": "code",
   "execution_count": 27,
   "metadata": {},
   "outputs": [],
   "source": [
    "def creacion():\n",
    "    ruta_zip = '../files/input.zip' \n",
    "    salida = '../files/output'\n",
    "\n",
    "    extraer(ruta_zip, '.')\n",
    "\n",
    "    datos_entrenamiento = lectura('input/train')\n",
    "    datos_prueba = lectura('input/test')\n",
    "\n",
    "    os.makedirs(salida, exist_ok=True)\n",
    "\n",
    "    guardar_en_csv(datos_entrenamiento, os.path.join(salida, 'train_dataset.csv'))\n",
    "    guardar_en_csv(datos_prueba, os.path.join(salida, 'test_dataset.csv'))\n",
    "creacion()\n"
   ]
  }
 ],
 "metadata": {
  "kernelspec": {
   "display_name": ".venv",
   "language": "python",
   "name": "python3"
  },
  "language_info": {
   "codemirror_mode": {
    "name": "ipython",
    "version": 3
   },
   "file_extension": ".py",
   "mimetype": "text/x-python",
   "name": "python",
   "nbconvert_exporter": "python",
   "pygments_lexer": "ipython3",
   "version": "3.10.9"
  }
 },
 "nbformat": 4,
 "nbformat_minor": 2
}
